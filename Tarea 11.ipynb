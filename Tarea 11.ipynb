{
 "cells": [
  {
   "cell_type": "markdown",
   "id": "dae9af36",
   "metadata": {},
   "source": [
    "# Tarea\n",
    "\n",
    "Haz un *script* que lea el conjunto de datos llamado `datos`, y que haga una representación gráfica de cada variable dependiendo de lo siguiente. Si el máximo valor de la variable es un número impar, se debe hacer un histograma, de lo contrario, si el máximo valor de la variable es par, se debe hacer un boxplot. Cada uno de los gráficos debe llevar el nombre de la variable como título.\n",
    "Para acceder al conjunto de datos `datos` ejecute el siguiente código (requiere conexión a internet).\n",
    "\n",
    "```R\n",
    "datos <- read.csv(\"https://is.gd/lLr5lD\")\n",
    "datos\n",
    "\n",
    "```"
   ]
  }
 ],
 "metadata": {
  "kernelspec": {
   "display_name": "R",
   "language": "R",
   "name": "ir"
  },
  "language_info": {
   "codemirror_mode": "r",
   "file_extension": ".r",
   "mimetype": "text/x-r-source",
   "name": "R",
   "pygments_lexer": "r",
   "version": "4.4.1"
  }
 },
 "nbformat": 4,
 "nbformat_minor": 5
}
